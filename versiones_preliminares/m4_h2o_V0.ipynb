{
 "cells": [
  {
   "cell_type": "code",
   "execution_count": 22,
   "metadata": {},
   "outputs": [],
   "source": [
    "import pandas as pd\n",
    "import numpy as np\n",
    "import matplotlib.pyplot as plt\n",
    "import seaborn as sns\n",
    "from sklearn.preprocessing import LabelEncoder\n",
    "from sklearn.ensemble import RandomForestClassifier\n",
    "from sklearn.tree import DecisionTreeClassifier\n",
    "from xgboost import XGBClassifier\n",
    "from sklearn.model_selection import train_test_split\n",
    "from pandas.plotting import scatter_matrix\n",
    "from sklearn.feature_selection import VarianceThreshold\n",
    "from sklearn.metrics import accuracy_score, auc, confusion_matrix, f1_score, precision_score, recall_score, roc_curve\n",
    "from sklearn.feature_selection import SelectKBest\n",
    "from sklearn.model_selection import GridSearchCV\n",
    "from sklearn.metrics import classification_report\n",
    "from imblearn.over_sampling import SMOTE\n",
    "from sklearn.model_selection import cross_val_score"
   ]
  },
  {
   "cell_type": "code",
   "execution_count": 23,
   "metadata": {},
   "outputs": [],
   "source": [
    "import h2o\n",
    "from h2o.estimators import H2ORandomForestEstimator"
   ]
  },
  {
   "cell_type": "code",
   "execution_count": 24,
   "metadata": {},
   "outputs": [
    {
     "name": "stdout",
     "output_type": "stream",
     "text": [
      "Checking whether there is an H2O instance running at http://localhost:54321. connected.\n"
     ]
    },
    {
     "data": {
      "text/html": [
       "\n",
       "<style>\n",
       "\n",
       "#h2o-table-3.h2o-container {\n",
       "  overflow-x: auto;\n",
       "}\n",
       "#h2o-table-3 .h2o-table {\n",
       "  /* width: 100%; */\n",
       "  margin-top: 1em;\n",
       "  margin-bottom: 1em;\n",
       "}\n",
       "#h2o-table-3 .h2o-table caption {\n",
       "  white-space: nowrap;\n",
       "  caption-side: top;\n",
       "  text-align: left;\n",
       "  /* margin-left: 1em; */\n",
       "  margin: 0;\n",
       "  font-size: larger;\n",
       "}\n",
       "#h2o-table-3 .h2o-table thead {\n",
       "  white-space: nowrap; \n",
       "  position: sticky;\n",
       "  top: 0;\n",
       "  box-shadow: 0 -1px inset;\n",
       "}\n",
       "#h2o-table-3 .h2o-table tbody {\n",
       "  overflow: auto;\n",
       "}\n",
       "#h2o-table-3 .h2o-table th,\n",
       "#h2o-table-3 .h2o-table td {\n",
       "  text-align: right;\n",
       "  /* border: 1px solid; */\n",
       "}\n",
       "#h2o-table-3 .h2o-table tr:nth-child(even) {\n",
       "  /* background: #F5F5F5 */\n",
       "}\n",
       "\n",
       "</style>      \n",
       "<div id=\"h2o-table-3\" class=\"h2o-container\">\n",
       "  <table class=\"h2o-table\">\n",
       "    <caption></caption>\n",
       "    <thead></thead>\n",
       "    <tbody><tr><td>H2O_cluster_uptime:</td>\n",
       "<td>2 mins 52 secs</td></tr>\n",
       "<tr><td>H2O_cluster_timezone:</td>\n",
       "<td>Europe/Madrid</td></tr>\n",
       "<tr><td>H2O_data_parsing_timezone:</td>\n",
       "<td>UTC</td></tr>\n",
       "<tr><td>H2O_cluster_version:</td>\n",
       "<td>3.44.0.3</td></tr>\n",
       "<tr><td>H2O_cluster_version_age:</td>\n",
       "<td>3 months and 3 days</td></tr>\n",
       "<tr><td>H2O_cluster_name:</td>\n",
       "<td>H2O_from_python_ACER_zzy1xd</td></tr>\n",
       "<tr><td>H2O_cluster_total_nodes:</td>\n",
       "<td>1</td></tr>\n",
       "<tr><td>H2O_cluster_free_memory:</td>\n",
       "<td>3.658 Gb</td></tr>\n",
       "<tr><td>H2O_cluster_total_cores:</td>\n",
       "<td>8</td></tr>\n",
       "<tr><td>H2O_cluster_allowed_cores:</td>\n",
       "<td>8</td></tr>\n",
       "<tr><td>H2O_cluster_status:</td>\n",
       "<td>locked, healthy</td></tr>\n",
       "<tr><td>H2O_connection_url:</td>\n",
       "<td>http://localhost:54321</td></tr>\n",
       "<tr><td>H2O_connection_proxy:</td>\n",
       "<td>{\"http\": null, \"https\": null}</td></tr>\n",
       "<tr><td>H2O_internal_security:</td>\n",
       "<td>False</td></tr>\n",
       "<tr><td>Python_version:</td>\n",
       "<td>3.11.8 final</td></tr></tbody>\n",
       "  </table>\n",
       "</div>\n"
      ],
      "text/plain": [
       "--------------------------  -----------------------------\n",
       "H2O_cluster_uptime:         2 mins 52 secs\n",
       "H2O_cluster_timezone:       Europe/Madrid\n",
       "H2O_data_parsing_timezone:  UTC\n",
       "H2O_cluster_version:        3.44.0.3\n",
       "H2O_cluster_version_age:    3 months and 3 days\n",
       "H2O_cluster_name:           H2O_from_python_ACER_zzy1xd\n",
       "H2O_cluster_total_nodes:    1\n",
       "H2O_cluster_free_memory:    3.658 Gb\n",
       "H2O_cluster_total_cores:    8\n",
       "H2O_cluster_allowed_cores:  8\n",
       "H2O_cluster_status:         locked, healthy\n",
       "H2O_connection_url:         http://localhost:54321\n",
       "H2O_connection_proxy:       {\"http\": null, \"https\": null}\n",
       "H2O_internal_security:      False\n",
       "Python_version:             3.11.8 final\n",
       "--------------------------  -----------------------------"
      ]
     },
     "metadata": {},
     "output_type": "display_data"
    }
   ],
   "source": [
    "# Creación de un cluster local H2O\n",
    "# ------------------------------------------------------------------------------\n",
    "h2o.init(ip = \"localhost\",\n",
    "         # -1 indica que se empleen todos los cores disponibles.\n",
    "         nthreads = -1,\n",
    "         # Máxima memoria disponible para el cluster.\n",
    "         max_mem_size = \"4g\")"
   ]
  },
  {
   "cell_type": "code",
   "execution_count": 25,
   "metadata": {},
   "outputs": [],
   "source": [
    "# Se eliminan los datos del cluster por si ya había sido iniciado.\n",
    "h2o.remove_all()"
   ]
  },
  {
   "cell_type": "code",
   "execution_count": 26,
   "metadata": {},
   "outputs": [],
   "source": [
    "df_1=pd.read_csv('./training set values.csv', sep=',')\n",
    "df_target=pd.read_csv('./training set labels.csv', sep=',')\n",
    "df_all_1 = pd.merge(df_1, df_target, on='id', how='inner')\n"
   ]
  },
  {
   "cell_type": "code",
   "execution_count": 27,
   "metadata": {},
   "outputs": [
    {
     "data": {
      "text/html": [
       "<div>\n",
       "<style scoped>\n",
       "    .dataframe tbody tr th:only-of-type {\n",
       "        vertical-align: middle;\n",
       "    }\n",
       "\n",
       "    .dataframe tbody tr th {\n",
       "        vertical-align: top;\n",
       "    }\n",
       "\n",
       "    .dataframe thead th {\n",
       "        text-align: right;\n",
       "    }\n",
       "</style>\n",
       "<table border=\"1\" class=\"dataframe\">\n",
       "  <thead>\n",
       "    <tr style=\"text-align: right;\">\n",
       "      <th></th>\n",
       "      <th>id</th>\n",
       "      <th>amount_tsh</th>\n",
       "      <th>date_recorded</th>\n",
       "      <th>funder</th>\n",
       "      <th>gps_height</th>\n",
       "      <th>installer</th>\n",
       "      <th>longitude</th>\n",
       "      <th>latitude</th>\n",
       "      <th>wpt_name</th>\n",
       "      <th>num_private</th>\n",
       "      <th>...</th>\n",
       "      <th>water_quality</th>\n",
       "      <th>quality_group</th>\n",
       "      <th>quantity</th>\n",
       "      <th>quantity_group</th>\n",
       "      <th>source</th>\n",
       "      <th>source_type</th>\n",
       "      <th>source_class</th>\n",
       "      <th>waterpoint_type</th>\n",
       "      <th>waterpoint_type_group</th>\n",
       "      <th>status_group</th>\n",
       "    </tr>\n",
       "  </thead>\n",
       "  <tbody>\n",
       "    <tr>\n",
       "      <th>0</th>\n",
       "      <td>69572</td>\n",
       "      <td>6000.0</td>\n",
       "      <td>2011-03-14</td>\n",
       "      <td>Roman</td>\n",
       "      <td>1390</td>\n",
       "      <td>Roman</td>\n",
       "      <td>34.938093</td>\n",
       "      <td>-9.856322</td>\n",
       "      <td>none</td>\n",
       "      <td>0</td>\n",
       "      <td>...</td>\n",
       "      <td>soft</td>\n",
       "      <td>good</td>\n",
       "      <td>enough</td>\n",
       "      <td>enough</td>\n",
       "      <td>spring</td>\n",
       "      <td>spring</td>\n",
       "      <td>groundwater</td>\n",
       "      <td>communal standpipe</td>\n",
       "      <td>communal standpipe</td>\n",
       "      <td>functional</td>\n",
       "    </tr>\n",
       "    <tr>\n",
       "      <th>1</th>\n",
       "      <td>8776</td>\n",
       "      <td>0.0</td>\n",
       "      <td>2013-03-06</td>\n",
       "      <td>Grumeti</td>\n",
       "      <td>1399</td>\n",
       "      <td>GRUMETI</td>\n",
       "      <td>34.698766</td>\n",
       "      <td>-2.147466</td>\n",
       "      <td>Zahanati</td>\n",
       "      <td>0</td>\n",
       "      <td>...</td>\n",
       "      <td>soft</td>\n",
       "      <td>good</td>\n",
       "      <td>insufficient</td>\n",
       "      <td>insufficient</td>\n",
       "      <td>rainwater harvesting</td>\n",
       "      <td>rainwater harvesting</td>\n",
       "      <td>surface</td>\n",
       "      <td>communal standpipe</td>\n",
       "      <td>communal standpipe</td>\n",
       "      <td>functional</td>\n",
       "    </tr>\n",
       "    <tr>\n",
       "      <th>2</th>\n",
       "      <td>34310</td>\n",
       "      <td>25.0</td>\n",
       "      <td>2013-02-25</td>\n",
       "      <td>Lottery Club</td>\n",
       "      <td>686</td>\n",
       "      <td>World vision</td>\n",
       "      <td>37.460664</td>\n",
       "      <td>-3.821329</td>\n",
       "      <td>Kwa Mahundi</td>\n",
       "      <td>0</td>\n",
       "      <td>...</td>\n",
       "      <td>soft</td>\n",
       "      <td>good</td>\n",
       "      <td>enough</td>\n",
       "      <td>enough</td>\n",
       "      <td>dam</td>\n",
       "      <td>dam</td>\n",
       "      <td>surface</td>\n",
       "      <td>communal standpipe multiple</td>\n",
       "      <td>communal standpipe</td>\n",
       "      <td>functional</td>\n",
       "    </tr>\n",
       "    <tr>\n",
       "      <th>3</th>\n",
       "      <td>67743</td>\n",
       "      <td>0.0</td>\n",
       "      <td>2013-01-28</td>\n",
       "      <td>Unicef</td>\n",
       "      <td>263</td>\n",
       "      <td>UNICEF</td>\n",
       "      <td>38.486161</td>\n",
       "      <td>-11.155298</td>\n",
       "      <td>Zahanati Ya Nanyumbu</td>\n",
       "      <td>0</td>\n",
       "      <td>...</td>\n",
       "      <td>soft</td>\n",
       "      <td>good</td>\n",
       "      <td>dry</td>\n",
       "      <td>dry</td>\n",
       "      <td>machine dbh</td>\n",
       "      <td>borehole</td>\n",
       "      <td>groundwater</td>\n",
       "      <td>communal standpipe multiple</td>\n",
       "      <td>communal standpipe</td>\n",
       "      <td>non functional</td>\n",
       "    </tr>\n",
       "    <tr>\n",
       "      <th>4</th>\n",
       "      <td>19728</td>\n",
       "      <td>0.0</td>\n",
       "      <td>2011-07-13</td>\n",
       "      <td>Action In A</td>\n",
       "      <td>0</td>\n",
       "      <td>Artisan</td>\n",
       "      <td>31.130847</td>\n",
       "      <td>-1.825359</td>\n",
       "      <td>Shuleni</td>\n",
       "      <td>0</td>\n",
       "      <td>...</td>\n",
       "      <td>soft</td>\n",
       "      <td>good</td>\n",
       "      <td>seasonal</td>\n",
       "      <td>seasonal</td>\n",
       "      <td>rainwater harvesting</td>\n",
       "      <td>rainwater harvesting</td>\n",
       "      <td>surface</td>\n",
       "      <td>communal standpipe</td>\n",
       "      <td>communal standpipe</td>\n",
       "      <td>functional</td>\n",
       "    </tr>\n",
       "  </tbody>\n",
       "</table>\n",
       "<p>5 rows × 41 columns</p>\n",
       "</div>"
      ],
      "text/plain": [
       "      id  amount_tsh date_recorded        funder  gps_height     installer  \\\n",
       "0  69572      6000.0    2011-03-14         Roman        1390         Roman   \n",
       "1   8776         0.0    2013-03-06       Grumeti        1399       GRUMETI   \n",
       "2  34310        25.0    2013-02-25  Lottery Club         686  World vision   \n",
       "3  67743         0.0    2013-01-28        Unicef         263        UNICEF   \n",
       "4  19728         0.0    2011-07-13   Action In A           0       Artisan   \n",
       "\n",
       "   longitude   latitude              wpt_name  num_private  ... water_quality  \\\n",
       "0  34.938093  -9.856322                  none            0  ...          soft   \n",
       "1  34.698766  -2.147466              Zahanati            0  ...          soft   \n",
       "2  37.460664  -3.821329           Kwa Mahundi            0  ...          soft   \n",
       "3  38.486161 -11.155298  Zahanati Ya Nanyumbu            0  ...          soft   \n",
       "4  31.130847  -1.825359               Shuleni            0  ...          soft   \n",
       "\n",
       "  quality_group      quantity  quantity_group                source  \\\n",
       "0          good        enough          enough                spring   \n",
       "1          good  insufficient    insufficient  rainwater harvesting   \n",
       "2          good        enough          enough                   dam   \n",
       "3          good           dry             dry           machine dbh   \n",
       "4          good      seasonal        seasonal  rainwater harvesting   \n",
       "\n",
       "            source_type source_class              waterpoint_type  \\\n",
       "0                spring  groundwater           communal standpipe   \n",
       "1  rainwater harvesting      surface           communal standpipe   \n",
       "2                   dam      surface  communal standpipe multiple   \n",
       "3              borehole  groundwater  communal standpipe multiple   \n",
       "4  rainwater harvesting      surface           communal standpipe   \n",
       "\n",
       "  waterpoint_type_group    status_group  \n",
       "0    communal standpipe      functional  \n",
       "1    communal standpipe      functional  \n",
       "2    communal standpipe      functional  \n",
       "3    communal standpipe  non functional  \n",
       "4    communal standpipe      functional  \n",
       "\n",
       "[5 rows x 41 columns]"
      ]
     },
     "execution_count": 27,
     "metadata": {},
     "output_type": "execute_result"
    }
   ],
   "source": [
    "df_all_1.head()"
   ]
  },
  {
   "cell_type": "code",
   "execution_count": null,
   "metadata": {},
   "outputs": [],
   "source": []
  },
  {
   "cell_type": "code",
   "execution_count": 28,
   "metadata": {},
   "outputs": [
    {
     "name": "stdout",
     "output_type": "stream",
     "text": [
      "Parse progress: |████████████████████████████████████████████████████████████████| (done) 100%\n"
     ]
    }
   ],
   "source": [
    "df_all_1 = h2o.H2OFrame(python_obj = df_1, destination_frame = \"df_bank_h2o\")"
   ]
  },
  {
   "cell_type": "code",
   "execution_count": 29,
   "metadata": {},
   "outputs": [
    {
     "data": {
      "text/plain": [
       "<bound method H2OFrame.type of H2OFrame({'_ex': <Expr()#df_bank_h2o>})>"
      ]
     },
     "execution_count": 29,
     "metadata": {},
     "output_type": "execute_result"
    }
   ],
   "source": [
    "df_all_1.type"
   ]
  },
  {
   "cell_type": "code",
   "execution_count": 30,
   "metadata": {},
   "outputs": [
    {
     "data": {
      "text/plain": [
       "(59400, 40)"
      ]
     },
     "execution_count": 30,
     "metadata": {},
     "output_type": "execute_result"
    }
   ],
   "source": [
    "df_all_1.shape"
   ]
  },
  {
   "cell_type": "code",
   "execution_count": 31,
   "metadata": {},
   "outputs": [
    {
     "data": {
      "text/plain": [
       "['id',\n",
       " 'amount_tsh',\n",
       " 'date_recorded',\n",
       " 'funder',\n",
       " 'gps_height',\n",
       " 'installer',\n",
       " 'longitude',\n",
       " 'latitude',\n",
       " 'wpt_name',\n",
       " 'num_private',\n",
       " 'basin',\n",
       " 'subvillage',\n",
       " 'region',\n",
       " 'region_code',\n",
       " 'district_code',\n",
       " 'lga',\n",
       " 'ward',\n",
       " 'population',\n",
       " 'public_meeting',\n",
       " 'recorded_by',\n",
       " 'scheme_management',\n",
       " 'scheme_name',\n",
       " 'permit',\n",
       " 'construction_year',\n",
       " 'extraction_type',\n",
       " 'extraction_type_group',\n",
       " 'extraction_type_class',\n",
       " 'management',\n",
       " 'management_group',\n",
       " 'payment',\n",
       " 'payment_type',\n",
       " 'water_quality',\n",
       " 'quality_group',\n",
       " 'quantity',\n",
       " 'quantity_group',\n",
       " 'source',\n",
       " 'source_type',\n",
       " 'source_class',\n",
       " 'waterpoint_type',\n",
       " 'waterpoint_type_group']"
      ]
     },
     "execution_count": 31,
     "metadata": {},
     "output_type": "execute_result"
    }
   ],
   "source": [
    "df_all_1.col_names"
   ]
  },
  {
   "cell_type": "code",
   "execution_count": 32,
   "metadata": {},
   "outputs": [
    {
     "data": {
      "text/html": [
       "<pre style='margin: 1em 0 1em 0;'>Rows:59400\n",
       "Cols:40\n",
       "</pre>"
      ],
      "text/plain": [
       "Rows:59400\n",
       "Cols:40\n"
      ]
     },
     "metadata": {},
     "output_type": "display_data"
    },
    {
     "data": {
      "text/html": [
       "<table class='dataframe'>\n",
       "<thead>\n",
       "<tr><th>       </th><th>id               </th><th>amount_tsh        </th><th>date_recorded      </th><th>funder             </th><th>gps_height       </th><th>installer   </th><th>longitude         </th><th>latitude          </th><th>wpt_name            </th><th>num_private        </th><th>basin                  </th><th>subvillage     </th><th>region   </th><th>region_code       </th><th>district_code    </th><th>lga            </th><th>ward      </th><th>population        </th><th>public_meeting  </th><th>recorded_by            </th><th>scheme_management  </th><th>scheme_name                </th><th>permit  </th><th>construction_year  </th><th>extraction_type  </th><th>extraction_type_group  </th><th>extraction_type_class  </th><th>management  </th><th>management_group  </th><th>payment       </th><th>payment_type  </th><th>water_quality  </th><th>quality_group  </th><th>quantity    </th><th>quantity_group  </th><th>source              </th><th>source_type         </th><th>source_class  </th><th>waterpoint_type            </th><th>waterpoint_type_group  </th></tr>\n",
       "</thead>\n",
       "<tbody>\n",
       "<tr><td>type   </td><td>int              </td><td>real              </td><td>time               </td><td>enum               </td><td>int              </td><td>enum        </td><td>real              </td><td>real              </td><td>enum                </td><td>int                </td><td>enum                   </td><td>enum           </td><td>enum     </td><td>int               </td><td>int              </td><td>enum           </td><td>enum      </td><td>int               </td><td>enum            </td><td>enum                   </td><td>enum               </td><td>enum                       </td><td>enum    </td><td>int                </td><td>enum             </td><td>enum                   </td><td>enum                   </td><td>enum        </td><td>enum              </td><td>enum          </td><td>enum          </td><td>enum           </td><td>enum           </td><td>enum        </td><td>enum            </td><td>enum                </td><td>enum                </td><td>enum          </td><td>enum                       </td><td>enum                   </td></tr>\n",
       "<tr><td>mins   </td><td>0.0              </td><td>0.0               </td><td>1034553600000.0    </td><td>                   </td><td>-90.0            </td><td>            </td><td>0.0               </td><td>-11.64944018      </td><td>                    </td><td>0.0                </td><td>                       </td><td>               </td><td>         </td><td>1.0               </td><td>0.0              </td><td>               </td><td>          </td><td>0.0               </td><td>                </td><td>                       </td><td>                   </td><td>                           </td><td>        </td><td>0.0                </td><td>                 </td><td>                       </td><td>                       </td><td>            </td><td>                  </td><td>              </td><td>              </td><td>               </td><td>               </td><td>            </td><td>                </td><td>                    </td><td>                    </td><td>              </td><td>                           </td><td>                       </td></tr>\n",
       "<tr><td>mean   </td><td>37115.13176767676</td><td>317.65038468013483</td><td>1333012293818.18   </td><td>                   </td><td>668.2972390572386</td><td>            </td><td>34.077426692028816</td><td>-5.706032659626429</td><td>                    </td><td>0.47414141414141414</td><td>                       </td><td>               </td><td>         </td><td>15.297003367003365</td><td>5.629747474747471</td><td>               </td><td>          </td><td>179.9099831649831 </td><td>                </td><td>                       </td><td>                   </td><td>                           </td><td>        </td><td>1300.6524747474762 </td><td>                 </td><td>                       </td><td>                       </td><td>            </td><td>                  </td><td>              </td><td>              </td><td>               </td><td>               </td><td>            </td><td>                </td><td>                    </td><td>                    </td><td>              </td><td>                           </td><td>                       </td></tr>\n",
       "<tr><td>maxs   </td><td>74247.0          </td><td>350000.0          </td><td>1386028800000.0    </td><td>                   </td><td>2770.0           </td><td>            </td><td>40.34519307       </td><td>-2e-08            </td><td>                    </td><td>1776.0             </td><td>                       </td><td>               </td><td>         </td><td>99.0              </td><td>80.0             </td><td>               </td><td>          </td><td>30500.0           </td><td>                </td><td>                       </td><td>                   </td><td>                           </td><td>        </td><td>2013.0             </td><td>                 </td><td>                       </td><td>                       </td><td>            </td><td>                  </td><td>              </td><td>              </td><td>               </td><td>               </td><td>            </td><td>                </td><td>                    </td><td>                    </td><td>              </td><td>                           </td><td>                       </td></tr>\n",
       "<tr><td>sigma  </td><td>21453.12837131774</td><td>2997.5745581421675</td><td>28876294717.270092 </td><td>                   </td><td>693.11635032505  </td><td>            </td><td>6.567431845646528 </td><td>2.946019081267253 </td><td>                    </td><td>12.236229810496688 </td><td>                       </td><td>               </td><td>         </td><td>17.587406337332038</td><td>9.633648629454573</td><td>               </td><td>          </td><td>471.48217573848007</td><td>                </td><td>                       </td><td>                   </td><td>                           </td><td>        </td><td>951.6205473151736  </td><td>                 </td><td>                       </td><td>                       </td><td>            </td><td>                  </td><td>              </td><td>              </td><td>               </td><td>               </td><td>            </td><td>                </td><td>                    </td><td>                    </td><td>              </td><td>                           </td><td>                       </td></tr>\n",
       "<tr><td>zeros  </td><td>1                </td><td>41639             </td><td>0                  </td><td>                   </td><td>20438            </td><td>            </td><td>1812              </td><td>0                 </td><td>                    </td><td>58643              </td><td>                       </td><td>               </td><td>         </td><td>0                 </td><td>23               </td><td>               </td><td>          </td><td>21381             </td><td>                </td><td>                       </td><td>                   </td><td>                           </td><td>        </td><td>20709              </td><td>                 </td><td>                       </td><td>                       </td><td>            </td><td>                  </td><td>              </td><td>              </td><td>               </td><td>               </td><td>            </td><td>                </td><td>                    </td><td>                    </td><td>              </td><td>                           </td><td>                       </td></tr>\n",
       "<tr><td>missing</td><td>0                </td><td>0                 </td><td>0                  </td><td>777                </td><td>0                </td><td>777         </td><td>0                 </td><td>0                 </td><td>0                   </td><td>0                  </td><td>0                      </td><td>0              </td><td>0        </td><td>0                 </td><td>0                </td><td>0              </td><td>0         </td><td>0                 </td><td>0               </td><td>0                      </td><td>0                  </td><td>0                          </td><td>0       </td><td>0                  </td><td>0                </td><td>0                      </td><td>0                      </td><td>0           </td><td>0                 </td><td>0             </td><td>0             </td><td>0              </td><td>0              </td><td>0           </td><td>0               </td><td>0                   </td><td>0                   </td><td>0             </td><td>0                          </td><td>0                      </td></tr>\n",
       "<tr><td>0      </td><td>69572.0          </td><td>6000.0            </td><td>2011-03-14 00:00:00</td><td>Roman              </td><td>1390.0           </td><td>Roman       </td><td>34.93809275       </td><td>-9.85632177       </td><td>none                </td><td>0.0                </td><td>Lake Nyasa             </td><td>Mnyusi B       </td><td>Iringa   </td><td>11.0              </td><td>5.0              </td><td>Ludewa         </td><td>Mundindi  </td><td>109.0             </td><td>True            </td><td>GeoData Consultants Ltd</td><td>VWC                </td><td>Roman                      </td><td>False   </td><td>1999.0             </td><td>gravity          </td><td>gravity                </td><td>gravity                </td><td>vwc         </td><td>user-group        </td><td>pay annually  </td><td>annually      </td><td>soft           </td><td>good           </td><td>enough      </td><td>enough          </td><td>spring              </td><td>spring              </td><td>groundwater   </td><td>communal standpipe         </td><td>communal standpipe     </td></tr>\n",
       "<tr><td>1      </td><td>8776.0           </td><td>0.0               </td><td>2013-03-06 00:00:00</td><td>Grumeti            </td><td>1399.0           </td><td>GRUMETI     </td><td>34.6987661        </td><td>-2.14746569       </td><td>Zahanati            </td><td>0.0                </td><td>Lake Victoria          </td><td>Nyamara        </td><td>Mara     </td><td>20.0              </td><td>2.0              </td><td>Serengeti      </td><td>Natta     </td><td>280.0             </td><td>nan             </td><td>GeoData Consultants Ltd</td><td>Other              </td><td>nan                        </td><td>True    </td><td>2010.0             </td><td>gravity          </td><td>gravity                </td><td>gravity                </td><td>wug         </td><td>user-group        </td><td>never pay     </td><td>never pay     </td><td>soft           </td><td>good           </td><td>insufficient</td><td>insufficient    </td><td>rainwater harvesting</td><td>rainwater harvesting</td><td>surface       </td><td>communal standpipe         </td><td>communal standpipe     </td></tr>\n",
       "<tr><td>2      </td><td>34310.0          </td><td>25.0              </td><td>2013-02-25 00:00:00</td><td>Lottery Club       </td><td>686.0            </td><td>World vision</td><td>37.46066446       </td><td>-3.82132853       </td><td>Kwa Mahundi         </td><td>0.0                </td><td>Pangani                </td><td>Majengo        </td><td>Manyara  </td><td>21.0              </td><td>4.0              </td><td>Simanjiro      </td><td>Ngorika   </td><td>250.0             </td><td>True            </td><td>GeoData Consultants Ltd</td><td>VWC                </td><td>Nyumba ya mungu pipe scheme</td><td>True    </td><td>2009.0             </td><td>gravity          </td><td>gravity                </td><td>gravity                </td><td>vwc         </td><td>user-group        </td><td>pay per bucket</td><td>per bucket    </td><td>soft           </td><td>good           </td><td>enough      </td><td>enough          </td><td>dam                 </td><td>dam                 </td><td>surface       </td><td>communal standpipe multiple</td><td>communal standpipe     </td></tr>\n",
       "<tr><td>3      </td><td>67743.0          </td><td>0.0               </td><td>2013-01-28 00:00:00</td><td>Unicef             </td><td>263.0            </td><td>UNICEF      </td><td>38.48616088       </td><td>-11.15529772      </td><td>Zahanati Ya Nanyumbu</td><td>0.0                </td><td>Ruvuma / Southern Coast</td><td>Mahakamani     </td><td>Mtwara   </td><td>90.0              </td><td>63.0             </td><td>Nanyumbu       </td><td>Nanyumbu  </td><td>58.0              </td><td>True            </td><td>GeoData Consultants Ltd</td><td>VWC                </td><td>nan                        </td><td>True    </td><td>1986.0             </td><td>submersible      </td><td>submersible            </td><td>submersible            </td><td>vwc         </td><td>user-group        </td><td>never pay     </td><td>never pay     </td><td>soft           </td><td>good           </td><td>dry         </td><td>dry             </td><td>machine dbh         </td><td>borehole            </td><td>groundwater   </td><td>communal standpipe multiple</td><td>communal standpipe     </td></tr>\n",
       "<tr><td>4      </td><td>19728.0          </td><td>0.0               </td><td>2011-07-13 00:00:00</td><td>Action In A        </td><td>0.0              </td><td>Artisan     </td><td>31.13084671       </td><td>-1.82535885       </td><td>Shuleni             </td><td>0.0                </td><td>Lake Victoria          </td><td>Kyanyamisa     </td><td>Kagera   </td><td>18.0              </td><td>1.0              </td><td>Karagwe        </td><td>Nyakasimbi</td><td>0.0               </td><td>True            </td><td>GeoData Consultants Ltd</td><td>nan                </td><td>nan                        </td><td>True    </td><td>0.0                </td><td>gravity          </td><td>gravity                </td><td>gravity                </td><td>other       </td><td>other             </td><td>never pay     </td><td>never pay     </td><td>soft           </td><td>good           </td><td>seasonal    </td><td>seasonal        </td><td>rainwater harvesting</td><td>rainwater harvesting</td><td>surface       </td><td>communal standpipe         </td><td>communal standpipe     </td></tr>\n",
       "<tr><td>5      </td><td>9944.0           </td><td>20.0              </td><td>2011-03-13 00:00:00</td><td>Mkinga Distric Coun</td><td>0.0              </td><td>DWE         </td><td>39.1727956        </td><td>-4.76558728       </td><td>Tajiri              </td><td>0.0                </td><td>Pangani                </td><td>Moa/Mwereme    </td><td>Tanga    </td><td>4.0               </td><td>8.0              </td><td>Mkinga         </td><td>Moa       </td><td>1.0               </td><td>True            </td><td>GeoData Consultants Ltd</td><td>VWC                </td><td>Zingibali                  </td><td>True    </td><td>2009.0             </td><td>submersible      </td><td>submersible            </td><td>submersible            </td><td>vwc         </td><td>user-group        </td><td>pay per bucket</td><td>per bucket    </td><td>salty          </td><td>salty          </td><td>enough      </td><td>enough          </td><td>other               </td><td>other               </td><td>unknown       </td><td>communal standpipe multiple</td><td>communal standpipe     </td></tr>\n",
       "<tr><td>6      </td><td>19816.0          </td><td>0.0               </td><td>2012-10-01 00:00:00</td><td>Dwsp               </td><td>0.0              </td><td>DWSP        </td><td>33.36240982       </td><td>-3.76636472       </td><td>Kwa Ngomho          </td><td>0.0                </td><td>Internal               </td><td>Ishinabulandi  </td><td>Shinyanga</td><td>17.0              </td><td>3.0              </td><td>Shinyanga Rural</td><td>Samuye    </td><td>0.0               </td><td>True            </td><td>GeoData Consultants Ltd</td><td>VWC                </td><td>nan                        </td><td>True    </td><td>0.0                </td><td>swn 80           </td><td>swn 80                 </td><td>handpump               </td><td>vwc         </td><td>user-group        </td><td>never pay     </td><td>never pay     </td><td>soft           </td><td>good           </td><td>enough      </td><td>enough          </td><td>machine dbh         </td><td>borehole            </td><td>groundwater   </td><td>hand pump                  </td><td>hand pump              </td></tr>\n",
       "<tr><td>7      </td><td>54551.0          </td><td>0.0               </td><td>2012-10-09 00:00:00</td><td>Rwssp              </td><td>0.0              </td><td>DWE         </td><td>32.62061707       </td><td>-4.22619802       </td><td>Tushirikiane        </td><td>0.0                </td><td>Lake Tanganyika        </td><td>Nyawishi Center</td><td>Shinyanga</td><td>17.0              </td><td>3.0              </td><td>Kahama         </td><td>Chambo    </td><td>0.0               </td><td>True            </td><td>GeoData Consultants Ltd</td><td>nan                </td><td>nan                        </td><td>True    </td><td>0.0                </td><td>nira/tanira      </td><td>nira/tanira            </td><td>handpump               </td><td>wug         </td><td>user-group        </td><td>unknown       </td><td>unknown       </td><td>milky          </td><td>milky          </td><td>enough      </td><td>enough          </td><td>shallow well        </td><td>shallow well        </td><td>groundwater   </td><td>hand pump                  </td><td>hand pump              </td></tr>\n",
       "<tr><td>8      </td><td>53934.0          </td><td>0.0               </td><td>2012-11-03 00:00:00</td><td>Wateraid           </td><td>0.0              </td><td>Water Aid   </td><td>32.71110001       </td><td>-5.14671181       </td><td>Kwa Ramadhan Musa   </td><td>0.0                </td><td>Lake Tanganyika        </td><td>Imalauduki     </td><td>Tabora   </td><td>14.0              </td><td>6.0              </td><td>Tabora Urban   </td><td>Itetemia  </td><td>0.0               </td><td>True            </td><td>GeoData Consultants Ltd</td><td>VWC                </td><td>nan                        </td><td>True    </td><td>0.0                </td><td>india mark ii    </td><td>india mark ii          </td><td>handpump               </td><td>vwc         </td><td>user-group        </td><td>never pay     </td><td>never pay     </td><td>salty          </td><td>salty          </td><td>seasonal    </td><td>seasonal        </td><td>machine dbh         </td><td>borehole            </td><td>groundwater   </td><td>hand pump                  </td><td>hand pump              </td></tr>\n",
       "<tr><td>9      </td><td>46144.0          </td><td>0.0               </td><td>2011-08-03 00:00:00</td><td>Isingiro Ho        </td><td>0.0              </td><td>Artisan     </td><td>30.62699053       </td><td>-1.25705061       </td><td>Kwapeto             </td><td>0.0                </td><td>Lake Victoria          </td><td>Mkonomre       </td><td>Kagera   </td><td>18.0              </td><td>1.0              </td><td>Karagwe        </td><td>Kaisho    </td><td>0.0               </td><td>True            </td><td>GeoData Consultants Ltd</td><td>nan                </td><td>nan                        </td><td>True    </td><td>0.0                </td><td>nira/tanira      </td><td>nira/tanira            </td><td>handpump               </td><td>vwc         </td><td>user-group        </td><td>never pay     </td><td>never pay     </td><td>soft           </td><td>good           </td><td>enough      </td><td>enough          </td><td>shallow well        </td><td>shallow well        </td><td>groundwater   </td><td>hand pump                  </td><td>hand pump              </td></tr>\n",
       "</tbody>\n",
       "</table><pre style='font-size: smaller; margin-bottom: 1em;'>[59400 rows x 40 columns]</pre>"
      ],
      "text/plain": [
       "         id                 amount_tsh          date_recorded        funder               gps_height         installer     longitude           latitude            wpt_name              num_private          basin                    subvillage       region     region_code         district_code      lga              ward        population          public_meeting    recorded_by              scheme_management    scheme_name                  permit    construction_year    extraction_type    extraction_type_group    extraction_type_class    management    management_group    payment         payment_type    water_quality    quality_group    quantity      quantity_group    source                source_type           source_class    waterpoint_type              waterpoint_type_group\n",
       "-------  -----------------  ------------------  -------------------  -------------------  -----------------  ------------  ------------------  ------------------  --------------------  -------------------  -----------------------  ---------------  ---------  ------------------  -----------------  ---------------  ----------  ------------------  ----------------  -----------------------  -------------------  ---------------------------  --------  -------------------  -----------------  -----------------------  -----------------------  ------------  ------------------  --------------  --------------  ---------------  ---------------  ------------  ----------------  --------------------  --------------------  --------------  ---------------------------  -----------------------\n",
       "type     int                real                time                 enum                 int                enum          real                real                enum                  int                  enum                     enum             enum       int                 int                enum             enum        int                 enum              enum                     enum                 enum                         enum      int                  enum               enum                     enum                     enum          enum                enum            enum            enum             enum             enum          enum              enum                  enum                  enum            enum                         enum\n",
       "mins     0.0                0.0                 1034553600000.0                           -90.0                            0.0                 -11.64944018                              0.0                                                                       1.0                 0.0                                             0.0                                                                                                                        0.0\n",
       "mean     37115.13176767676  317.65038468013483  1333012293818.18                          668.2972390572386                34.077426692028816  -5.706032659626429                        0.47414141414141414                                                       15.297003367003365  5.629747474747471                               179.9099831649831                                                                                                          1300.6524747474762\n",
       "maxs     74247.0            350000.0            1386028800000.0                           2770.0                           40.34519307         -2e-08                                    1776.0                                                                    99.0                80.0                                            30500.0                                                                                                                    2013.0\n",
       "sigma    21453.12837131774  2997.5745581421675  28876294717.270092                        693.11635032505                  6.567431845646528   2.946019081267253                         12.236229810496688                                                        17.587406337332038  9.633648629454573                               471.48217573848007                                                                                                         951.6205473151736\n",
       "zeros    1                  41639               0                                         20438                            1812                0                                         58643                                                                     0                   23                                              21381                                                                                                                      20709\n",
       "missing  0                  0                   0                    777                  0                  777           0                   0                   0                     0                    0                        0                0          0                   0                  0                0           0                   0                 0                        0                    0                            0         0                    0                  0                        0                        0             0                   0               0               0                0                0             0                 0                     0                     0               0                            0\n",
       "0        69572.0            6000.0              2011-03-14 00:00:00  Roman                1390.0             Roman         34.93809275         -9.85632177         none                  0.0                  Lake Nyasa               Mnyusi B         Iringa     11.0                5.0                Ludewa           Mundindi    109.0               True              GeoData Consultants Ltd  VWC                  Roman                        False     1999.0               gravity            gravity                  gravity                  vwc           user-group          pay annually    annually        soft             good             enough        enough            spring                spring                groundwater     communal standpipe           communal standpipe\n",
       "1        8776.0             0.0                 2013-03-06 00:00:00  Grumeti              1399.0             GRUMETI       34.6987661          -2.14746569         Zahanati              0.0                  Lake Victoria            Nyamara          Mara       20.0                2.0                Serengeti        Natta       280.0               nan               GeoData Consultants Ltd  Other                nan                          True      2010.0               gravity            gravity                  gravity                  wug           user-group          never pay       never pay       soft             good             insufficient  insufficient      rainwater harvesting  rainwater harvesting  surface         communal standpipe           communal standpipe\n",
       "2        34310.0            25.0                2013-02-25 00:00:00  Lottery Club         686.0              World vision  37.46066446         -3.82132853         Kwa Mahundi           0.0                  Pangani                  Majengo          Manyara    21.0                4.0                Simanjiro        Ngorika     250.0               True              GeoData Consultants Ltd  VWC                  Nyumba ya mungu pipe scheme  True      2009.0               gravity            gravity                  gravity                  vwc           user-group          pay per bucket  per bucket      soft             good             enough        enough            dam                   dam                   surface         communal standpipe multiple  communal standpipe\n",
       "3        67743.0            0.0                 2013-01-28 00:00:00  Unicef               263.0              UNICEF        38.48616088         -11.15529772        Zahanati Ya Nanyumbu  0.0                  Ruvuma / Southern Coast  Mahakamani       Mtwara     90.0                63.0               Nanyumbu         Nanyumbu    58.0                True              GeoData Consultants Ltd  VWC                  nan                          True      1986.0               submersible        submersible              submersible              vwc           user-group          never pay       never pay       soft             good             dry           dry               machine dbh           borehole              groundwater     communal standpipe multiple  communal standpipe\n",
       "4        19728.0            0.0                 2011-07-13 00:00:00  Action In A          0.0                Artisan       31.13084671         -1.82535885         Shuleni               0.0                  Lake Victoria            Kyanyamisa       Kagera     18.0                1.0                Karagwe          Nyakasimbi  0.0                 True              GeoData Consultants Ltd  nan                  nan                          True      0.0                  gravity            gravity                  gravity                  other         other               never pay       never pay       soft             good             seasonal      seasonal          rainwater harvesting  rainwater harvesting  surface         communal standpipe           communal standpipe\n",
       "5        9944.0             20.0                2011-03-13 00:00:00  Mkinga Distric Coun  0.0                DWE           39.1727956          -4.76558728         Tajiri                0.0                  Pangani                  Moa/Mwereme      Tanga      4.0                 8.0                Mkinga           Moa         1.0                 True              GeoData Consultants Ltd  VWC                  Zingibali                    True      2009.0               submersible        submersible              submersible              vwc           user-group          pay per bucket  per bucket      salty            salty            enough        enough            other                 other                 unknown         communal standpipe multiple  communal standpipe\n",
       "6        19816.0            0.0                 2012-10-01 00:00:00  Dwsp                 0.0                DWSP          33.36240982         -3.76636472         Kwa Ngomho            0.0                  Internal                 Ishinabulandi    Shinyanga  17.0                3.0                Shinyanga Rural  Samuye      0.0                 True              GeoData Consultants Ltd  VWC                  nan                          True      0.0                  swn 80             swn 80                   handpump                 vwc           user-group          never pay       never pay       soft             good             enough        enough            machine dbh           borehole              groundwater     hand pump                    hand pump\n",
       "7        54551.0            0.0                 2012-10-09 00:00:00  Rwssp                0.0                DWE           32.62061707         -4.22619802         Tushirikiane          0.0                  Lake Tanganyika          Nyawishi Center  Shinyanga  17.0                3.0                Kahama           Chambo      0.0                 True              GeoData Consultants Ltd  nan                  nan                          True      0.0                  nira/tanira        nira/tanira              handpump                 wug           user-group          unknown         unknown         milky            milky            enough        enough            shallow well          shallow well          groundwater     hand pump                    hand pump\n",
       "8        53934.0            0.0                 2012-11-03 00:00:00  Wateraid             0.0                Water Aid     32.71110001         -5.14671181         Kwa Ramadhan Musa     0.0                  Lake Tanganyika          Imalauduki       Tabora     14.0                6.0                Tabora Urban     Itetemia    0.0                 True              GeoData Consultants Ltd  VWC                  nan                          True      0.0                  india mark ii      india mark ii            handpump                 vwc           user-group          never pay       never pay       salty            salty            seasonal      seasonal          machine dbh           borehole              groundwater     hand pump                    hand pump\n",
       "9        46144.0            0.0                 2011-08-03 00:00:00  Isingiro Ho          0.0                Artisan       30.62699053         -1.25705061         Kwapeto               0.0                  Lake Victoria            Mkonomre         Kagera     18.0                1.0                Karagwe          Kaisho      0.0                 True              GeoData Consultants Ltd  nan                  nan                          True      0.0                  nira/tanira        nira/tanira              handpump                 vwc           user-group          never pay       never pay       soft             good             enough        enough            shallow well          shallow well          groundwater     hand pump                    hand pump\n",
       "[59400 rows x 40 columns]\n"
      ]
     },
     "metadata": {},
     "output_type": "display_data"
    }
   ],
   "source": [
    "df_all_1.describe()"
   ]
  },
  {
   "cell_type": "code",
   "execution_count": 33,
   "metadata": {},
   "outputs": [
    {
     "ename": "H2OResponseError",
     "evalue": "Server error java.lang.IllegalArgumentException:\n  Error: Column status_group not found\n  Request: POST /99/Rapids\n    data: {'ast': \"(tmp= py_1_sid_9cfc (table (cols_py df_bank_h2o 'status_group') True))\", 'session_id': '_sid_9cfc'}\n",
     "output_type": "error",
     "traceback": [
      "\u001b[1;31m---------------------------------------------------------------------------\u001b[0m",
      "\u001b[1;31mH2OResponseError\u001b[0m                          Traceback (most recent call last)",
      "File \u001b[1;32m~\\AppData\\Local\\Packages\\PythonSoftwareFoundation.Python.3.11_qbz5n2kfra8p0\\LocalCache\\local-packages\\Python311\\site-packages\\IPython\\core\\formatters.py:708\u001b[0m, in \u001b[0;36mPlainTextFormatter.__call__\u001b[1;34m(self, obj)\u001b[0m\n\u001b[0;32m    701\u001b[0m stream \u001b[38;5;241m=\u001b[39m StringIO()\n\u001b[0;32m    702\u001b[0m printer \u001b[38;5;241m=\u001b[39m pretty\u001b[38;5;241m.\u001b[39mRepresentationPrinter(stream, \u001b[38;5;28mself\u001b[39m\u001b[38;5;241m.\u001b[39mverbose,\n\u001b[0;32m    703\u001b[0m     \u001b[38;5;28mself\u001b[39m\u001b[38;5;241m.\u001b[39mmax_width, \u001b[38;5;28mself\u001b[39m\u001b[38;5;241m.\u001b[39mnewline,\n\u001b[0;32m    704\u001b[0m     max_seq_length\u001b[38;5;241m=\u001b[39m\u001b[38;5;28mself\u001b[39m\u001b[38;5;241m.\u001b[39mmax_seq_length,\n\u001b[0;32m    705\u001b[0m     singleton_pprinters\u001b[38;5;241m=\u001b[39m\u001b[38;5;28mself\u001b[39m\u001b[38;5;241m.\u001b[39msingleton_printers,\n\u001b[0;32m    706\u001b[0m     type_pprinters\u001b[38;5;241m=\u001b[39m\u001b[38;5;28mself\u001b[39m\u001b[38;5;241m.\u001b[39mtype_printers,\n\u001b[0;32m    707\u001b[0m     deferred_pprinters\u001b[38;5;241m=\u001b[39m\u001b[38;5;28mself\u001b[39m\u001b[38;5;241m.\u001b[39mdeferred_printers)\n\u001b[1;32m--> 708\u001b[0m \u001b[43mprinter\u001b[49m\u001b[38;5;241;43m.\u001b[39;49m\u001b[43mpretty\u001b[49m\u001b[43m(\u001b[49m\u001b[43mobj\u001b[49m\u001b[43m)\u001b[49m\n\u001b[0;32m    709\u001b[0m printer\u001b[38;5;241m.\u001b[39mflush()\n\u001b[0;32m    710\u001b[0m \u001b[38;5;28;01mreturn\u001b[39;00m stream\u001b[38;5;241m.\u001b[39mgetvalue()\n",
      "File \u001b[1;32m~\\AppData\\Local\\Packages\\PythonSoftwareFoundation.Python.3.11_qbz5n2kfra8p0\\LocalCache\\local-packages\\Python311\\site-packages\\IPython\\lib\\pretty.py:407\u001b[0m, in \u001b[0;36mRepresentationPrinter.pretty\u001b[1;34m(self, obj)\u001b[0m\n\u001b[0;32m    405\u001b[0m     meth \u001b[38;5;241m=\u001b[39m \u001b[38;5;28mcls\u001b[39m\u001b[38;5;241m.\u001b[39m_repr_pretty_\n\u001b[0;32m    406\u001b[0m     \u001b[38;5;28;01mif\u001b[39;00m \u001b[38;5;28mcallable\u001b[39m(meth):\n\u001b[1;32m--> 407\u001b[0m         \u001b[38;5;28;01mreturn\u001b[39;00m \u001b[43mmeth\u001b[49m\u001b[43m(\u001b[49m\u001b[43mobj\u001b[49m\u001b[43m,\u001b[49m\u001b[43m \u001b[49m\u001b[38;5;28;43mself\u001b[39;49m\u001b[43m,\u001b[49m\u001b[43m \u001b[49m\u001b[43mcycle\u001b[49m\u001b[43m)\u001b[49m\n\u001b[0;32m    408\u001b[0m \u001b[38;5;28;01mif\u001b[39;00m \u001b[38;5;28mcls\u001b[39m \u001b[38;5;129;01mis\u001b[39;00m \u001b[38;5;129;01mnot\u001b[39;00m \u001b[38;5;28mobject\u001b[39m \\\n\u001b[0;32m    409\u001b[0m         \u001b[38;5;129;01mand\u001b[39;00m \u001b[38;5;28mcallable\u001b[39m(\u001b[38;5;28mcls\u001b[39m\u001b[38;5;241m.\u001b[39m\u001b[38;5;18m__dict__\u001b[39m\u001b[38;5;241m.\u001b[39mget(\u001b[38;5;124m'\u001b[39m\u001b[38;5;124m__repr__\u001b[39m\u001b[38;5;124m'\u001b[39m)):\n\u001b[0;32m    410\u001b[0m     \u001b[38;5;28;01mreturn\u001b[39;00m _repr_pprint(obj, \u001b[38;5;28mself\u001b[39m, cycle)\n",
      "File \u001b[1;32m~\\AppData\\Local\\Packages\\PythonSoftwareFoundation.Python.3.11_qbz5n2kfra8p0\\LocalCache\\local-packages\\Python311\\site-packages\\h2o\\display.py:384\u001b[0m, in \u001b[0;36mDisplayMixin._repr_pretty_\u001b[1;34m(self, p, cycle)\u001b[0m\n\u001b[0;32m    382\u001b[0m     p\u001b[38;5;241m.\u001b[39mtext(\u001b[38;5;124m\"\u001b[39m\u001b[38;5;132;01m{}\u001b[39;00m\u001b[38;5;124m(...)\u001b[39m\u001b[38;5;124m\"\u001b[39m\u001b[38;5;241m.\u001b[39mformat(\u001b[38;5;28mself\u001b[39m\u001b[38;5;241m.\u001b[39m\u001b[38;5;18m__class__\u001b[39m\u001b[38;5;241m.\u001b[39m\u001b[38;5;18m__name__\u001b[39m))\n\u001b[0;32m    383\u001b[0m \u001b[38;5;28;01melse\u001b[39;00m:\n\u001b[1;32m--> 384\u001b[0m     p\u001b[38;5;241m.\u001b[39mtext(\u001b[38;5;28mstr\u001b[39m(\u001b[38;5;28mself\u001b[39m))\n",
      "File \u001b[1;32m~\\AppData\\Local\\Packages\\PythonSoftwareFoundation.Python.3.11_qbz5n2kfra8p0\\LocalCache\\local-packages\\Python311\\site-packages\\h2o\\display.py:362\u001b[0m, in \u001b[0;36mDisplayMixin.__str__\u001b[1;34m(self)\u001b[0m\n\u001b[0;32m    360\u001b[0m     s \u001b[38;5;241m=\u001b[39m \u001b[38;5;28mself\u001b[39m\u001b[38;5;241m.\u001b[39m_str_html_(verbosity\u001b[38;5;241m=\u001b[39mrepr_verb)\n\u001b[0;32m    361\u001b[0m \u001b[38;5;28;01melif\u001b[39;00m repr_fmt \u001b[38;5;241m==\u001b[39m \u001b[38;5;124m'\u001b[39m\u001b[38;5;124mpretty\u001b[39m\u001b[38;5;124m'\u001b[39m:\n\u001b[1;32m--> 362\u001b[0m     s \u001b[38;5;241m=\u001b[39m \u001b[38;5;28;43mself\u001b[39;49m\u001b[38;5;241;43m.\u001b[39;49m\u001b[43m_str_pretty_\u001b[49m\u001b[43m(\u001b[49m\u001b[43mverbosity\u001b[49m\u001b[38;5;241;43m=\u001b[39;49m\u001b[43mrepr_verb\u001b[49m\u001b[43m)\u001b[49m\n\u001b[0;32m    363\u001b[0m \u001b[38;5;28;01melse\u001b[39;00m:\n\u001b[0;32m    364\u001b[0m     s \u001b[38;5;241m=\u001b[39m \u001b[38;5;28mself\u001b[39m\u001b[38;5;241m.\u001b[39m_str_(verbosity\u001b[38;5;241m=\u001b[39mrepr_verb)\n",
      "File \u001b[1;32m~\\AppData\\Local\\Packages\\PythonSoftwareFoundation.Python.3.11_qbz5n2kfra8p0\\LocalCache\\local-packages\\Python311\\site-packages\\h2o\\frame.py:4993\u001b[0m, in \u001b[0;36mH2OFrame._str_pretty_\u001b[1;34m(self, verbosity)\u001b[0m\n\u001b[0;32m   4992\u001b[0m \u001b[38;5;28;01mdef\u001b[39;00m \u001b[38;5;21m_str_pretty_\u001b[39m(\u001b[38;5;28mself\u001b[39m, verbosity\u001b[38;5;241m=\u001b[39m\u001b[38;5;28;01mNone\u001b[39;00m):\n\u001b[1;32m-> 4993\u001b[0m     \u001b[38;5;28;01mreturn\u001b[39;00m \u001b[38;5;28;43mself\u001b[39;49m\u001b[38;5;241;43m.\u001b[39;49m\u001b[43m_to_str\u001b[49m\u001b[43m(\u001b[49m\u001b[38;5;124;43m'\u001b[39;49m\u001b[38;5;124;43mpretty\u001b[39;49m\u001b[38;5;124;43m'\u001b[39;49m\u001b[43m,\u001b[49m\u001b[43m \u001b[49m\u001b[43mverbosity\u001b[49m\u001b[43m)\u001b[49m\n",
      "File \u001b[1;32m~\\AppData\\Local\\Packages\\PythonSoftwareFoundation.Python.3.11_qbz5n2kfra8p0\\LocalCache\\local-packages\\Python311\\site-packages\\h2o\\frame.py:4969\u001b[0m, in \u001b[0;36mH2OFrame._to_str\u001b[1;34m(self, fmt, verbosity)\u001b[0m\n\u001b[0;32m   4968\u001b[0m \u001b[38;5;28;01mdef\u001b[39;00m \u001b[38;5;21m_to_str\u001b[39m(\u001b[38;5;28mself\u001b[39m, fmt\u001b[38;5;241m=\u001b[39m\u001b[38;5;28;01mNone\u001b[39;00m, verbosity\u001b[38;5;241m=\u001b[39m\u001b[38;5;28;01mNone\u001b[39;00m):\n\u001b[1;32m-> 4969\u001b[0m     fr_str \u001b[38;5;241m=\u001b[39m \u001b[38;5;28;43mself\u001b[39;49m\u001b[38;5;241;43m.\u001b[39;49m\u001b[43m_str_edge_cases\u001b[49m\u001b[43m(\u001b[49m\u001b[43m)\u001b[49m\n\u001b[0;32m   4970\u001b[0m     \u001b[38;5;28;01mif\u001b[39;00m fr_str \u001b[38;5;129;01mis\u001b[39;00m \u001b[38;5;129;01mnot\u001b[39;00m \u001b[38;5;28;01mNone\u001b[39;00m:\n\u001b[0;32m   4971\u001b[0m         \u001b[38;5;28;01mreturn\u001b[39;00m fr_str\n",
      "File \u001b[1;32m~\\AppData\\Local\\Packages\\PythonSoftwareFoundation.Python.3.11_qbz5n2kfra8p0\\LocalCache\\local-packages\\Python311\\site-packages\\h2o\\frame.py:4956\u001b[0m, in \u001b[0;36mH2OFrame._str_edge_cases\u001b[1;34m(self)\u001b[0m\n\u001b[0;32m   4954\u001b[0m \u001b[38;5;28;01mif\u001b[39;00m \u001b[38;5;129;01mnot\u001b[39;00m \u001b[38;5;28mself\u001b[39m\u001b[38;5;241m.\u001b[39m_has_content():\n\u001b[0;32m   4955\u001b[0m     \u001b[38;5;28;01mreturn\u001b[39;00m \u001b[38;5;124m\"\u001b[39m\u001b[38;5;124mH2OFrame is empty and not initialized.\u001b[39m\u001b[38;5;124m\"\u001b[39m\n\u001b[1;32m-> 4956\u001b[0m \u001b[38;5;28;01mif\u001b[39;00m \u001b[38;5;28;43mself\u001b[39;49m\u001b[38;5;241;43m.\u001b[39;49m\u001b[43mnrows\u001b[49m \u001b[38;5;241m==\u001b[39m \u001b[38;5;241m0\u001b[39m:\n\u001b[0;32m   4957\u001b[0m     \u001b[38;5;28;01mreturn\u001b[39;00m \u001b[38;5;124m\"\u001b[39m\u001b[38;5;124mH2OFrame is empty.\u001b[39m\u001b[38;5;124m\"\u001b[39m\n\u001b[0;32m   4958\u001b[0m \u001b[38;5;66;03m# ensure that the cached frame has data to display\u001b[39;00m\n",
      "File \u001b[1;32m~\\AppData\\Local\\Packages\\PythonSoftwareFoundation.Python.3.11_qbz5n2kfra8p0\\LocalCache\\local-packages\\Python311\\site-packages\\h2o\\frame.py:325\u001b[0m, in \u001b[0;36mH2OFrame.nrows\u001b[1;34m(self)\u001b[0m\n\u001b[0;32m    323\u001b[0m \u001b[38;5;28;01mif\u001b[39;00m \u001b[38;5;129;01mnot\u001b[39;00m \u001b[38;5;28mself\u001b[39m\u001b[38;5;241m.\u001b[39m_ex\u001b[38;5;241m.\u001b[39m_cache\u001b[38;5;241m.\u001b[39mnrows_valid():\n\u001b[0;32m    324\u001b[0m     \u001b[38;5;28mself\u001b[39m\u001b[38;5;241m.\u001b[39m_ex\u001b[38;5;241m.\u001b[39m_cache\u001b[38;5;241m.\u001b[39mflush()\n\u001b[1;32m--> 325\u001b[0m     \u001b[38;5;28;43mself\u001b[39;49m\u001b[38;5;241;43m.\u001b[39;49m\u001b[43m_frame\u001b[49m\u001b[43m(\u001b[49m\u001b[43mfill_cache\u001b[49m\u001b[38;5;241;43m=\u001b[39;49m\u001b[38;5;28;43;01mTrue\u001b[39;49;00m\u001b[43m)\u001b[49m\n\u001b[0;32m    326\u001b[0m \u001b[38;5;28;01mreturn\u001b[39;00m \u001b[38;5;28mself\u001b[39m\u001b[38;5;241m.\u001b[39m_ex\u001b[38;5;241m.\u001b[39m_cache\u001b[38;5;241m.\u001b[39mnrows\n",
      "File \u001b[1;32m~\\AppData\\Local\\Packages\\PythonSoftwareFoundation.Python.3.11_qbz5n2kfra8p0\\LocalCache\\local-packages\\Python311\\site-packages\\h2o\\frame.py:582\u001b[0m, in \u001b[0;36mH2OFrame._frame\u001b[1;34m(self, rows, rows_offset, cols, cols_offset, fill_cache)\u001b[0m\n\u001b[0;32m    581\u001b[0m \u001b[38;5;28;01mdef\u001b[39;00m \u001b[38;5;21m_frame\u001b[39m(\u001b[38;5;28mself\u001b[39m, rows\u001b[38;5;241m=\u001b[39m\u001b[38;5;241m10\u001b[39m, rows_offset\u001b[38;5;241m=\u001b[39m\u001b[38;5;241m0\u001b[39m, cols\u001b[38;5;241m=\u001b[39m\u001b[38;5;241m-\u001b[39m\u001b[38;5;241m1\u001b[39m, cols_offset\u001b[38;5;241m=\u001b[39m\u001b[38;5;241m0\u001b[39m, fill_cache\u001b[38;5;241m=\u001b[39m\u001b[38;5;28;01mFalse\u001b[39;00m):\n\u001b[1;32m--> 582\u001b[0m     \u001b[38;5;28;43mself\u001b[39;49m\u001b[38;5;241;43m.\u001b[39;49m\u001b[43m_ex\u001b[49m\u001b[38;5;241;43m.\u001b[39;49m\u001b[43m_eager_frame\u001b[49m\u001b[43m(\u001b[49m\u001b[43m)\u001b[49m\n\u001b[0;32m    583\u001b[0m     \u001b[38;5;28;01mif\u001b[39;00m fill_cache:\n\u001b[0;32m    584\u001b[0m         \u001b[38;5;28mself\u001b[39m\u001b[38;5;241m.\u001b[39m_ex\u001b[38;5;241m.\u001b[39m_cache\u001b[38;5;241m.\u001b[39mfill(rows\u001b[38;5;241m=\u001b[39mrows, rows_offset\u001b[38;5;241m=\u001b[39mrows_offset, cols\u001b[38;5;241m=\u001b[39mcols, cols_offset\u001b[38;5;241m=\u001b[39mcols_offset)\n",
      "File \u001b[1;32m~\\AppData\\Local\\Packages\\PythonSoftwareFoundation.Python.3.11_qbz5n2kfra8p0\\LocalCache\\local-packages\\Python311\\site-packages\\h2o\\expr.py:90\u001b[0m, in \u001b[0;36mExprNode._eager_frame\u001b[1;34m(self)\u001b[0m\n\u001b[0;32m     88\u001b[0m \u001b[38;5;28;01mif\u001b[39;00m \u001b[38;5;129;01mnot\u001b[39;00m \u001b[38;5;28mself\u001b[39m\u001b[38;5;241m.\u001b[39m_cache\u001b[38;5;241m.\u001b[39mis_empty(): \u001b[38;5;28;01mreturn\u001b[39;00m\n\u001b[0;32m     89\u001b[0m \u001b[38;5;28;01mif\u001b[39;00m \u001b[38;5;28mself\u001b[39m\u001b[38;5;241m.\u001b[39m_cache\u001b[38;5;241m.\u001b[39m_id \u001b[38;5;129;01mis\u001b[39;00m \u001b[38;5;129;01mnot\u001b[39;00m \u001b[38;5;28;01mNone\u001b[39;00m: \u001b[38;5;28;01mreturn\u001b[39;00m  \u001b[38;5;66;03m# Data already computed under ID, but not cached locally\u001b[39;00m\n\u001b[1;32m---> 90\u001b[0m \u001b[38;5;28;43mself\u001b[39;49m\u001b[38;5;241;43m.\u001b[39;49m\u001b[43m_eval_driver\u001b[49m\u001b[43m(\u001b[49m\u001b[38;5;124;43m'\u001b[39;49m\u001b[38;5;124;43mframe\u001b[39;49m\u001b[38;5;124;43m'\u001b[39;49m\u001b[43m)\u001b[49m\n",
      "File \u001b[1;32m~\\AppData\\Local\\Packages\\PythonSoftwareFoundation.Python.3.11_qbz5n2kfra8p0\\LocalCache\\local-packages\\Python311\\site-packages\\h2o\\expr.py:114\u001b[0m, in \u001b[0;36mExprNode._eval_driver\u001b[1;34m(self, top)\u001b[0m\n\u001b[0;32m    107\u001b[0m \u001b[38;5;250m\u001b[39m\u001b[38;5;124;03m\"\"\"\u001b[39;00m\n\u001b[0;32m    108\u001b[0m \u001b[38;5;124;03m:param top: if this is a top expression (providing a final result),\u001b[39;00m\n\u001b[0;32m    109\u001b[0m \u001b[38;5;124;03m    then specifies the expected result type (accepted values = ['frame', 'scalar']),\u001b[39;00m\n\u001b[0;32m    110\u001b[0m \u001b[38;5;124;03m    or None if no object creation is expected.\u001b[39;00m\n\u001b[0;32m    111\u001b[0m \u001b[38;5;124;03m:return: self expr\u001b[39;00m\n\u001b[0;32m    112\u001b[0m \u001b[38;5;124;03m\"\"\"\u001b[39;00m\n\u001b[0;32m    113\u001b[0m exec_str \u001b[38;5;241m=\u001b[39m \u001b[38;5;28mself\u001b[39m\u001b[38;5;241m.\u001b[39m_get_ast_str(top)\n\u001b[1;32m--> 114\u001b[0m res \u001b[38;5;241m=\u001b[39m \u001b[43mExprNode\u001b[49m\u001b[38;5;241;43m.\u001b[39;49m\u001b[43mrapids\u001b[49m\u001b[43m(\u001b[49m\u001b[43mexec_str\u001b[49m\u001b[43m)\u001b[49m\n\u001b[0;32m    115\u001b[0m \u001b[38;5;28;01mif\u001b[39;00m \u001b[38;5;124m'\u001b[39m\u001b[38;5;124mscalar\u001b[39m\u001b[38;5;124m'\u001b[39m \u001b[38;5;129;01min\u001b[39;00m res:\n\u001b[0;32m    116\u001b[0m     \u001b[38;5;28;01mif\u001b[39;00m \u001b[38;5;28misinstance\u001b[39m(res[\u001b[38;5;124m'\u001b[39m\u001b[38;5;124mscalar\u001b[39m\u001b[38;5;124m'\u001b[39m], \u001b[38;5;28mlist\u001b[39m):\n",
      "File \u001b[1;32m~\\AppData\\Local\\Packages\\PythonSoftwareFoundation.Python.3.11_qbz5n2kfra8p0\\LocalCache\\local-packages\\Python311\\site-packages\\h2o\\expr.py:258\u001b[0m, in \u001b[0;36mExprNode.rapids\u001b[1;34m(expr)\u001b[0m\n\u001b[0;32m    249\u001b[0m \u001b[38;5;129m@staticmethod\u001b[39m\n\u001b[0;32m    250\u001b[0m \u001b[38;5;28;01mdef\u001b[39;00m \u001b[38;5;21mrapids\u001b[39m(expr):\n\u001b[0;32m    251\u001b[0m \u001b[38;5;250m    \u001b[39m\u001b[38;5;124;03m\"\"\"\u001b[39;00m\n\u001b[0;32m    252\u001b[0m \u001b[38;5;124;03m    Execute a Rapids expression.\u001b[39;00m\n\u001b[0;32m    253\u001b[0m \n\u001b[1;32m   (...)\u001b[0m\n\u001b[0;32m    256\u001b[0m \u001b[38;5;124;03m    :returns: The JSON response (as a python dictionary) of the Rapids execution\u001b[39;00m\n\u001b[0;32m    257\u001b[0m \u001b[38;5;124;03m    \"\"\"\u001b[39;00m\n\u001b[1;32m--> 258\u001b[0m     \u001b[38;5;28;01mreturn\u001b[39;00m \u001b[43mh2o\u001b[49m\u001b[38;5;241;43m.\u001b[39;49m\u001b[43mapi\u001b[49m\u001b[43m(\u001b[49m\u001b[38;5;124;43m\"\u001b[39;49m\u001b[38;5;124;43mPOST /99/Rapids\u001b[39;49m\u001b[38;5;124;43m\"\u001b[39;49m\u001b[43m,\u001b[49m\u001b[43m \u001b[49m\u001b[43mdata\u001b[49m\u001b[38;5;241;43m=\u001b[39;49m\u001b[43m{\u001b[49m\u001b[38;5;124;43m\"\u001b[39;49m\u001b[38;5;124;43mast\u001b[39;49m\u001b[38;5;124;43m\"\u001b[39;49m\u001b[43m:\u001b[49m\u001b[43m \u001b[49m\u001b[43mexpr\u001b[49m\u001b[43m,\u001b[49m\u001b[43m \u001b[49m\u001b[38;5;124;43m\"\u001b[39;49m\u001b[38;5;124;43msession_id\u001b[39;49m\u001b[38;5;124;43m\"\u001b[39;49m\u001b[43m:\u001b[49m\u001b[43m \u001b[49m\u001b[43mh2o\u001b[49m\u001b[38;5;241;43m.\u001b[39;49m\u001b[43mconnection\u001b[49m\u001b[43m(\u001b[49m\u001b[43m)\u001b[49m\u001b[38;5;241;43m.\u001b[39;49m\u001b[43msession_id\u001b[49m\u001b[43m}\u001b[49m\u001b[43m)\u001b[49m\n",
      "File \u001b[1;32m~\\AppData\\Local\\Packages\\PythonSoftwareFoundation.Python.3.11_qbz5n2kfra8p0\\LocalCache\\local-packages\\Python311\\site-packages\\h2o\\h2o.py:123\u001b[0m, in \u001b[0;36mapi\u001b[1;34m(endpoint, data, json, filename, save_to)\u001b[0m\n\u001b[0;32m    121\u001b[0m \u001b[38;5;66;03m# type checks are performed in H2OConnection class\u001b[39;00m\n\u001b[0;32m    122\u001b[0m _check_connection()\n\u001b[1;32m--> 123\u001b[0m \u001b[38;5;28;01mreturn\u001b[39;00m \u001b[43mh2oconn\u001b[49m\u001b[38;5;241;43m.\u001b[39;49m\u001b[43mrequest\u001b[49m\u001b[43m(\u001b[49m\u001b[43mendpoint\u001b[49m\u001b[43m,\u001b[49m\u001b[43m \u001b[49m\u001b[43mdata\u001b[49m\u001b[38;5;241;43m=\u001b[39;49m\u001b[43mdata\u001b[49m\u001b[43m,\u001b[49m\u001b[43m \u001b[49m\u001b[43mjson\u001b[49m\u001b[38;5;241;43m=\u001b[39;49m\u001b[43mjson\u001b[49m\u001b[43m,\u001b[49m\u001b[43m \u001b[49m\u001b[43mfilename\u001b[49m\u001b[38;5;241;43m=\u001b[39;49m\u001b[43mfilename\u001b[49m\u001b[43m,\u001b[49m\u001b[43m \u001b[49m\u001b[43msave_to\u001b[49m\u001b[38;5;241;43m=\u001b[39;49m\u001b[43msave_to\u001b[49m\u001b[43m)\u001b[49m\n",
      "File \u001b[1;32m~\\AppData\\Local\\Packages\\PythonSoftwareFoundation.Python.3.11_qbz5n2kfra8p0\\LocalCache\\local-packages\\Python311\\site-packages\\h2o\\backend\\connection.py:499\u001b[0m, in \u001b[0;36mH2OConnection.request\u001b[1;34m(self, endpoint, data, json, filename, save_to)\u001b[0m\n\u001b[0;32m    497\u001b[0m         save_to \u001b[38;5;241m=\u001b[39m save_to(resp)\n\u001b[0;32m    498\u001b[0m     \u001b[38;5;28mself\u001b[39m\u001b[38;5;241m.\u001b[39m_log_end_transaction(start_time, resp)\n\u001b[1;32m--> 499\u001b[0m     \u001b[38;5;28;01mreturn\u001b[39;00m \u001b[38;5;28;43mself\u001b[39;49m\u001b[38;5;241;43m.\u001b[39;49m\u001b[43m_process_response\u001b[49m\u001b[43m(\u001b[49m\u001b[43mresp\u001b[49m\u001b[43m,\u001b[49m\u001b[43m \u001b[49m\u001b[43msave_to\u001b[49m\u001b[43m)\u001b[49m\n\u001b[0;32m    501\u001b[0m \u001b[38;5;28;01mexcept\u001b[39;00m (requests\u001b[38;5;241m.\u001b[39mexceptions\u001b[38;5;241m.\u001b[39mConnectionError, requests\u001b[38;5;241m.\u001b[39mexceptions\u001b[38;5;241m.\u001b[39mHTTPError) \u001b[38;5;28;01mas\u001b[39;00m e:\n\u001b[0;32m    502\u001b[0m     \u001b[38;5;28;01mif\u001b[39;00m \u001b[38;5;28mself\u001b[39m\u001b[38;5;241m.\u001b[39m_local_server \u001b[38;5;129;01mand\u001b[39;00m \u001b[38;5;129;01mnot\u001b[39;00m \u001b[38;5;28mself\u001b[39m\u001b[38;5;241m.\u001b[39m_local_server\u001b[38;5;241m.\u001b[39mis_running():\n",
      "File \u001b[1;32m~\\AppData\\Local\\Packages\\PythonSoftwareFoundation.Python.3.11_qbz5n2kfra8p0\\LocalCache\\local-packages\\Python311\\site-packages\\h2o\\backend\\connection.py:853\u001b[0m, in \u001b[0;36mH2OConnection._process_response\u001b[1;34m(response, save_to)\u001b[0m\n\u001b[0;32m    851\u001b[0m \u001b[38;5;28;01mif\u001b[39;00m status_code \u001b[38;5;129;01min\u001b[39;00m {\u001b[38;5;241m400\u001b[39m, \u001b[38;5;241m404\u001b[39m, \u001b[38;5;241m412\u001b[39m} \u001b[38;5;129;01mand\u001b[39;00m \u001b[38;5;28misinstance\u001b[39m(data, H2OErrorV3):\n\u001b[0;32m    852\u001b[0m     data\u001b[38;5;241m.\u001b[39mshow_stacktrace \u001b[38;5;241m=\u001b[39m \u001b[38;5;28;01mFalse\u001b[39;00m\n\u001b[1;32m--> 853\u001b[0m     \u001b[38;5;28;01mraise\u001b[39;00m H2OResponseError(data)\n\u001b[0;32m    855\u001b[0m \u001b[38;5;66;03m# Server errors (notably 500 = \"Server Error\")\u001b[39;00m\n\u001b[0;32m    856\u001b[0m \u001b[38;5;66;03m# Note that it is possible to receive valid H2OErrorV3 object in this case, however it merely means the server\u001b[39;00m\n\u001b[0;32m    857\u001b[0m \u001b[38;5;66;03m# did not provide the correct status code.\u001b[39;00m\n\u001b[0;32m    858\u001b[0m \u001b[38;5;28;01mraise\u001b[39;00m H2OServerError(\u001b[38;5;124m\"\u001b[39m\u001b[38;5;124mHTTP \u001b[39m\u001b[38;5;132;01m%d\u001b[39;00m\u001b[38;5;124m \u001b[39m\u001b[38;5;132;01m%s\u001b[39;00m\u001b[38;5;124m:\u001b[39m\u001b[38;5;130;01m\\n\u001b[39;00m\u001b[38;5;132;01m%s\u001b[39;00m\u001b[38;5;124m\"\u001b[39m \u001b[38;5;241m%\u001b[39m (status_code, response\u001b[38;5;241m.\u001b[39mreason, data))\n",
      "\u001b[1;31mH2OResponseError\u001b[0m: Server error java.lang.IllegalArgumentException:\n  Error: Column status_group not found\n  Request: POST /99/Rapids\n    data: {'ast': \"(tmp= py_1_sid_9cfc (table (cols_py df_bank_h2o 'status_group') True))\", 'session_id': '_sid_9cfc'}\n"
     ]
    },
    {
     "ename": "H2OResponseError",
     "evalue": "Server error water.exceptions.H2OKeyNotFoundArgumentException:\n  Error: Object 'py_1_sid_9cfc' not found for argument: key\n  Request: GET /3/Frames/py_1_sid_9cfc\n    params: {'row_count': '10', 'row_offset': '0', 'column_count': '-1', 'full_column_count': '-1', 'column_offset': '0'}\n",
     "output_type": "error",
     "traceback": [
      "\u001b[1;31m---------------------------------------------------------------------------\u001b[0m",
      "\u001b[1;31mH2OResponseError\u001b[0m                          Traceback (most recent call last)",
      "File \u001b[1;32m~\\AppData\\Local\\Packages\\PythonSoftwareFoundation.Python.3.11_qbz5n2kfra8p0\\LocalCache\\local-packages\\Python311\\site-packages\\IPython\\core\\formatters.py:344\u001b[0m, in \u001b[0;36mBaseFormatter.__call__\u001b[1;34m(self, obj)\u001b[0m\n\u001b[0;32m    342\u001b[0m     method \u001b[38;5;241m=\u001b[39m get_real_method(obj, \u001b[38;5;28mself\u001b[39m\u001b[38;5;241m.\u001b[39mprint_method)\n\u001b[0;32m    343\u001b[0m     \u001b[38;5;28;01mif\u001b[39;00m method \u001b[38;5;129;01mis\u001b[39;00m \u001b[38;5;129;01mnot\u001b[39;00m \u001b[38;5;28;01mNone\u001b[39;00m:\n\u001b[1;32m--> 344\u001b[0m         \u001b[38;5;28;01mreturn\u001b[39;00m \u001b[43mmethod\u001b[49m\u001b[43m(\u001b[49m\u001b[43m)\u001b[49m\n\u001b[0;32m    345\u001b[0m     \u001b[38;5;28;01mreturn\u001b[39;00m \u001b[38;5;28;01mNone\u001b[39;00m\n\u001b[0;32m    346\u001b[0m \u001b[38;5;28;01melse\u001b[39;00m:\n",
      "File \u001b[1;32m~\\AppData\\Local\\Packages\\PythonSoftwareFoundation.Python.3.11_qbz5n2kfra8p0\\LocalCache\\local-packages\\Python311\\site-packages\\h2o\\display.py:392\u001b[0m, in \u001b[0;36mDisplayMixin._repr_html_\u001b[1;34m(self)\u001b[0m\n\u001b[0;32m    387\u001b[0m \u001b[38;5;250m\u001b[39m\u001b[38;5;124;03m\"\"\"\u001b[39;00m\n\u001b[0;32m    388\u001b[0m \u001b[38;5;124;03mIPython hook called when printing the cell result in Jupyter.\u001b[39;00m\n\u001b[0;32m    389\u001b[0m \u001b[38;5;124;03mPlease don't override this, override `_str_html_()` instead.\u001b[39;00m\n\u001b[0;32m    390\u001b[0m \u001b[38;5;124;03m\"\"\"\u001b[39;00m\n\u001b[0;32m    391\u001b[0m \u001b[38;5;28;01mwith\u001b[39;00m _repr_format(\u001b[38;5;124m'\u001b[39m\u001b[38;5;124mhtml\u001b[39m\u001b[38;5;124m'\u001b[39m):\n\u001b[1;32m--> 392\u001b[0m     \u001b[38;5;28;01mreturn\u001b[39;00m \u001b[38;5;28mstr\u001b[39m(\u001b[38;5;28mself\u001b[39m)\n",
      "File \u001b[1;32m~\\AppData\\Local\\Packages\\PythonSoftwareFoundation.Python.3.11_qbz5n2kfra8p0\\LocalCache\\local-packages\\Python311\\site-packages\\h2o\\display.py:360\u001b[0m, in \u001b[0;36mDisplayMixin.__str__\u001b[1;34m(self)\u001b[0m\n\u001b[0;32m    358\u001b[0m s \u001b[38;5;241m=\u001b[39m \u001b[38;5;28;01mNone\u001b[39;00m\n\u001b[0;32m    359\u001b[0m \u001b[38;5;28;01mif\u001b[39;00m repr_fmt \u001b[38;5;241m==\u001b[39m \u001b[38;5;124m'\u001b[39m\u001b[38;5;124mhtml\u001b[39m\u001b[38;5;124m'\u001b[39m:\n\u001b[1;32m--> 360\u001b[0m     s \u001b[38;5;241m=\u001b[39m \u001b[38;5;28;43mself\u001b[39;49m\u001b[38;5;241;43m.\u001b[39;49m\u001b[43m_str_html_\u001b[49m\u001b[43m(\u001b[49m\u001b[43mverbosity\u001b[49m\u001b[38;5;241;43m=\u001b[39;49m\u001b[43mrepr_verb\u001b[49m\u001b[43m)\u001b[49m\n\u001b[0;32m    361\u001b[0m \u001b[38;5;28;01melif\u001b[39;00m repr_fmt \u001b[38;5;241m==\u001b[39m \u001b[38;5;124m'\u001b[39m\u001b[38;5;124mpretty\u001b[39m\u001b[38;5;124m'\u001b[39m:\n\u001b[0;32m    362\u001b[0m     s \u001b[38;5;241m=\u001b[39m \u001b[38;5;28mself\u001b[39m\u001b[38;5;241m.\u001b[39m_str_pretty_(verbosity\u001b[38;5;241m=\u001b[39mrepr_verb)\n",
      "File \u001b[1;32m~\\AppData\\Local\\Packages\\PythonSoftwareFoundation.Python.3.11_qbz5n2kfra8p0\\LocalCache\\local-packages\\Python311\\site-packages\\h2o\\frame.py:4996\u001b[0m, in \u001b[0;36mH2OFrame._str_html_\u001b[1;34m(self, verbosity)\u001b[0m\n\u001b[0;32m   4995\u001b[0m \u001b[38;5;28;01mdef\u001b[39;00m \u001b[38;5;21m_str_html_\u001b[39m(\u001b[38;5;28mself\u001b[39m, verbosity\u001b[38;5;241m=\u001b[39m\u001b[38;5;28;01mNone\u001b[39;00m):\n\u001b[1;32m-> 4996\u001b[0m     \u001b[38;5;28;01mreturn\u001b[39;00m \u001b[38;5;28;43mself\u001b[39;49m\u001b[38;5;241;43m.\u001b[39;49m\u001b[43m_to_str\u001b[49m\u001b[43m(\u001b[49m\u001b[38;5;124;43m'\u001b[39;49m\u001b[38;5;124;43mhtml\u001b[39;49m\u001b[38;5;124;43m'\u001b[39;49m\u001b[43m,\u001b[49m\u001b[43m \u001b[49m\u001b[43mverbosity\u001b[49m\u001b[43m)\u001b[49m\n",
      "File \u001b[1;32m~\\AppData\\Local\\Packages\\PythonSoftwareFoundation.Python.3.11_qbz5n2kfra8p0\\LocalCache\\local-packages\\Python311\\site-packages\\h2o\\frame.py:4969\u001b[0m, in \u001b[0;36mH2OFrame._to_str\u001b[1;34m(self, fmt, verbosity)\u001b[0m\n\u001b[0;32m   4968\u001b[0m \u001b[38;5;28;01mdef\u001b[39;00m \u001b[38;5;21m_to_str\u001b[39m(\u001b[38;5;28mself\u001b[39m, fmt\u001b[38;5;241m=\u001b[39m\u001b[38;5;28;01mNone\u001b[39;00m, verbosity\u001b[38;5;241m=\u001b[39m\u001b[38;5;28;01mNone\u001b[39;00m):\n\u001b[1;32m-> 4969\u001b[0m     fr_str \u001b[38;5;241m=\u001b[39m \u001b[38;5;28;43mself\u001b[39;49m\u001b[38;5;241;43m.\u001b[39;49m\u001b[43m_str_edge_cases\u001b[49m\u001b[43m(\u001b[49m\u001b[43m)\u001b[49m\n\u001b[0;32m   4970\u001b[0m     \u001b[38;5;28;01mif\u001b[39;00m fr_str \u001b[38;5;129;01mis\u001b[39;00m \u001b[38;5;129;01mnot\u001b[39;00m \u001b[38;5;28;01mNone\u001b[39;00m:\n\u001b[0;32m   4971\u001b[0m         \u001b[38;5;28;01mreturn\u001b[39;00m fr_str\n",
      "File \u001b[1;32m~\\AppData\\Local\\Packages\\PythonSoftwareFoundation.Python.3.11_qbz5n2kfra8p0\\LocalCache\\local-packages\\Python311\\site-packages\\h2o\\frame.py:4956\u001b[0m, in \u001b[0;36mH2OFrame._str_edge_cases\u001b[1;34m(self)\u001b[0m\n\u001b[0;32m   4954\u001b[0m \u001b[38;5;28;01mif\u001b[39;00m \u001b[38;5;129;01mnot\u001b[39;00m \u001b[38;5;28mself\u001b[39m\u001b[38;5;241m.\u001b[39m_has_content():\n\u001b[0;32m   4955\u001b[0m     \u001b[38;5;28;01mreturn\u001b[39;00m \u001b[38;5;124m\"\u001b[39m\u001b[38;5;124mH2OFrame is empty and not initialized.\u001b[39m\u001b[38;5;124m\"\u001b[39m\n\u001b[1;32m-> 4956\u001b[0m \u001b[38;5;28;01mif\u001b[39;00m \u001b[38;5;28;43mself\u001b[39;49m\u001b[38;5;241;43m.\u001b[39;49m\u001b[43mnrows\u001b[49m \u001b[38;5;241m==\u001b[39m \u001b[38;5;241m0\u001b[39m:\n\u001b[0;32m   4957\u001b[0m     \u001b[38;5;28;01mreturn\u001b[39;00m \u001b[38;5;124m\"\u001b[39m\u001b[38;5;124mH2OFrame is empty.\u001b[39m\u001b[38;5;124m\"\u001b[39m\n\u001b[0;32m   4958\u001b[0m \u001b[38;5;66;03m# ensure that the cached frame has data to display\u001b[39;00m\n",
      "File \u001b[1;32m~\\AppData\\Local\\Packages\\PythonSoftwareFoundation.Python.3.11_qbz5n2kfra8p0\\LocalCache\\local-packages\\Python311\\site-packages\\h2o\\frame.py:325\u001b[0m, in \u001b[0;36mH2OFrame.nrows\u001b[1;34m(self)\u001b[0m\n\u001b[0;32m    323\u001b[0m \u001b[38;5;28;01mif\u001b[39;00m \u001b[38;5;129;01mnot\u001b[39;00m \u001b[38;5;28mself\u001b[39m\u001b[38;5;241m.\u001b[39m_ex\u001b[38;5;241m.\u001b[39m_cache\u001b[38;5;241m.\u001b[39mnrows_valid():\n\u001b[0;32m    324\u001b[0m     \u001b[38;5;28mself\u001b[39m\u001b[38;5;241m.\u001b[39m_ex\u001b[38;5;241m.\u001b[39m_cache\u001b[38;5;241m.\u001b[39mflush()\n\u001b[1;32m--> 325\u001b[0m     \u001b[38;5;28;43mself\u001b[39;49m\u001b[38;5;241;43m.\u001b[39;49m\u001b[43m_frame\u001b[49m\u001b[43m(\u001b[49m\u001b[43mfill_cache\u001b[49m\u001b[38;5;241;43m=\u001b[39;49m\u001b[38;5;28;43;01mTrue\u001b[39;49;00m\u001b[43m)\u001b[49m\n\u001b[0;32m    326\u001b[0m \u001b[38;5;28;01mreturn\u001b[39;00m \u001b[38;5;28mself\u001b[39m\u001b[38;5;241m.\u001b[39m_ex\u001b[38;5;241m.\u001b[39m_cache\u001b[38;5;241m.\u001b[39mnrows\n",
      "File \u001b[1;32m~\\AppData\\Local\\Packages\\PythonSoftwareFoundation.Python.3.11_qbz5n2kfra8p0\\LocalCache\\local-packages\\Python311\\site-packages\\h2o\\frame.py:584\u001b[0m, in \u001b[0;36mH2OFrame._frame\u001b[1;34m(self, rows, rows_offset, cols, cols_offset, fill_cache)\u001b[0m\n\u001b[0;32m    582\u001b[0m \u001b[38;5;28mself\u001b[39m\u001b[38;5;241m.\u001b[39m_ex\u001b[38;5;241m.\u001b[39m_eager_frame()\n\u001b[0;32m    583\u001b[0m \u001b[38;5;28;01mif\u001b[39;00m fill_cache:\n\u001b[1;32m--> 584\u001b[0m     \u001b[38;5;28;43mself\u001b[39;49m\u001b[38;5;241;43m.\u001b[39;49m\u001b[43m_ex\u001b[49m\u001b[38;5;241;43m.\u001b[39;49m\u001b[43m_cache\u001b[49m\u001b[38;5;241;43m.\u001b[39;49m\u001b[43mfill\u001b[49m\u001b[43m(\u001b[49m\u001b[43mrows\u001b[49m\u001b[38;5;241;43m=\u001b[39;49m\u001b[43mrows\u001b[49m\u001b[43m,\u001b[49m\u001b[43m \u001b[49m\u001b[43mrows_offset\u001b[49m\u001b[38;5;241;43m=\u001b[39;49m\u001b[43mrows_offset\u001b[49m\u001b[43m,\u001b[49m\u001b[43m \u001b[49m\u001b[43mcols\u001b[49m\u001b[38;5;241;43m=\u001b[39;49m\u001b[43mcols\u001b[49m\u001b[43m,\u001b[49m\u001b[43m \u001b[49m\u001b[43mcols_offset\u001b[49m\u001b[38;5;241;43m=\u001b[39;49m\u001b[43mcols_offset\u001b[49m\u001b[43m)\u001b[49m\n\u001b[0;32m    585\u001b[0m \u001b[38;5;28;01mreturn\u001b[39;00m \u001b[38;5;28mself\u001b[39m\n",
      "File \u001b[1;32m~\\AppData\\Local\\Packages\\PythonSoftwareFoundation.Python.3.11_qbz5n2kfra8p0\\LocalCache\\local-packages\\Python311\\site-packages\\h2o\\expr.py:368\u001b[0m, in \u001b[0;36mH2OCache.fill\u001b[1;34m(self, rows, rows_offset, cols, full_cols, cols_offset, light, force)\u001b[0m\n\u001b[0;32m    366\u001b[0m \u001b[38;5;28;01melse\u001b[39;00m:\n\u001b[0;32m    367\u001b[0m     endpoint \u001b[38;5;241m=\u001b[39m \u001b[38;5;124m\"\u001b[39m\u001b[38;5;124m/3/Frames/\u001b[39m\u001b[38;5;132;01m%s\u001b[39;00m\u001b[38;5;124m\"\u001b[39m\n\u001b[1;32m--> 368\u001b[0m res \u001b[38;5;241m=\u001b[39m \u001b[43mh2o\u001b[49m\u001b[38;5;241;43m.\u001b[39;49m\u001b[43mapi\u001b[49m\u001b[43m(\u001b[49m\u001b[38;5;124;43m\"\u001b[39;49m\u001b[38;5;124;43mGET \u001b[39;49m\u001b[38;5;124;43m\"\u001b[39;49m\u001b[43m \u001b[49m\u001b[38;5;241;43m+\u001b[39;49m\u001b[43m \u001b[49m\u001b[43mendpoint\u001b[49m\u001b[43m \u001b[49m\u001b[38;5;241;43m%\u001b[39;49m\u001b[43m \u001b[49m\u001b[38;5;28;43mself\u001b[39;49m\u001b[38;5;241;43m.\u001b[39;49m\u001b[43m_id\u001b[49m\u001b[43m,\u001b[49m\u001b[43m \u001b[49m\u001b[43mdata\u001b[49m\u001b[38;5;241;43m=\u001b[39;49m\u001b[43mreq_params\u001b[49m\u001b[43m)\u001b[49m[\u001b[38;5;124m\"\u001b[39m\u001b[38;5;124mframes\u001b[39m\u001b[38;5;124m\"\u001b[39m][\u001b[38;5;241m0\u001b[39m]\n\u001b[0;32m    369\u001b[0m \u001b[38;5;28mself\u001b[39m\u001b[38;5;241m.\u001b[39m_l \u001b[38;5;241m=\u001b[39m rows\n\u001b[0;32m    370\u001b[0m \u001b[38;5;28mself\u001b[39m\u001b[38;5;241m.\u001b[39m_nrows \u001b[38;5;241m=\u001b[39m res[\u001b[38;5;124m\"\u001b[39m\u001b[38;5;124mrows\u001b[39m\u001b[38;5;124m\"\u001b[39m]\n",
      "File \u001b[1;32m~\\AppData\\Local\\Packages\\PythonSoftwareFoundation.Python.3.11_qbz5n2kfra8p0\\LocalCache\\local-packages\\Python311\\site-packages\\h2o\\h2o.py:123\u001b[0m, in \u001b[0;36mapi\u001b[1;34m(endpoint, data, json, filename, save_to)\u001b[0m\n\u001b[0;32m    121\u001b[0m \u001b[38;5;66;03m# type checks are performed in H2OConnection class\u001b[39;00m\n\u001b[0;32m    122\u001b[0m _check_connection()\n\u001b[1;32m--> 123\u001b[0m \u001b[38;5;28;01mreturn\u001b[39;00m \u001b[43mh2oconn\u001b[49m\u001b[38;5;241;43m.\u001b[39;49m\u001b[43mrequest\u001b[49m\u001b[43m(\u001b[49m\u001b[43mendpoint\u001b[49m\u001b[43m,\u001b[49m\u001b[43m \u001b[49m\u001b[43mdata\u001b[49m\u001b[38;5;241;43m=\u001b[39;49m\u001b[43mdata\u001b[49m\u001b[43m,\u001b[49m\u001b[43m \u001b[49m\u001b[43mjson\u001b[49m\u001b[38;5;241;43m=\u001b[39;49m\u001b[43mjson\u001b[49m\u001b[43m,\u001b[49m\u001b[43m \u001b[49m\u001b[43mfilename\u001b[49m\u001b[38;5;241;43m=\u001b[39;49m\u001b[43mfilename\u001b[49m\u001b[43m,\u001b[49m\u001b[43m \u001b[49m\u001b[43msave_to\u001b[49m\u001b[38;5;241;43m=\u001b[39;49m\u001b[43msave_to\u001b[49m\u001b[43m)\u001b[49m\n",
      "File \u001b[1;32m~\\AppData\\Local\\Packages\\PythonSoftwareFoundation.Python.3.11_qbz5n2kfra8p0\\LocalCache\\local-packages\\Python311\\site-packages\\h2o\\backend\\connection.py:499\u001b[0m, in \u001b[0;36mH2OConnection.request\u001b[1;34m(self, endpoint, data, json, filename, save_to)\u001b[0m\n\u001b[0;32m    497\u001b[0m         save_to \u001b[38;5;241m=\u001b[39m save_to(resp)\n\u001b[0;32m    498\u001b[0m     \u001b[38;5;28mself\u001b[39m\u001b[38;5;241m.\u001b[39m_log_end_transaction(start_time, resp)\n\u001b[1;32m--> 499\u001b[0m     \u001b[38;5;28;01mreturn\u001b[39;00m \u001b[38;5;28;43mself\u001b[39;49m\u001b[38;5;241;43m.\u001b[39;49m\u001b[43m_process_response\u001b[49m\u001b[43m(\u001b[49m\u001b[43mresp\u001b[49m\u001b[43m,\u001b[49m\u001b[43m \u001b[49m\u001b[43msave_to\u001b[49m\u001b[43m)\u001b[49m\n\u001b[0;32m    501\u001b[0m \u001b[38;5;28;01mexcept\u001b[39;00m (requests\u001b[38;5;241m.\u001b[39mexceptions\u001b[38;5;241m.\u001b[39mConnectionError, requests\u001b[38;5;241m.\u001b[39mexceptions\u001b[38;5;241m.\u001b[39mHTTPError) \u001b[38;5;28;01mas\u001b[39;00m e:\n\u001b[0;32m    502\u001b[0m     \u001b[38;5;28;01mif\u001b[39;00m \u001b[38;5;28mself\u001b[39m\u001b[38;5;241m.\u001b[39m_local_server \u001b[38;5;129;01mand\u001b[39;00m \u001b[38;5;129;01mnot\u001b[39;00m \u001b[38;5;28mself\u001b[39m\u001b[38;5;241m.\u001b[39m_local_server\u001b[38;5;241m.\u001b[39mis_running():\n",
      "File \u001b[1;32m~\\AppData\\Local\\Packages\\PythonSoftwareFoundation.Python.3.11_qbz5n2kfra8p0\\LocalCache\\local-packages\\Python311\\site-packages\\h2o\\backend\\connection.py:853\u001b[0m, in \u001b[0;36mH2OConnection._process_response\u001b[1;34m(response, save_to)\u001b[0m\n\u001b[0;32m    851\u001b[0m \u001b[38;5;28;01mif\u001b[39;00m status_code \u001b[38;5;129;01min\u001b[39;00m {\u001b[38;5;241m400\u001b[39m, \u001b[38;5;241m404\u001b[39m, \u001b[38;5;241m412\u001b[39m} \u001b[38;5;129;01mand\u001b[39;00m \u001b[38;5;28misinstance\u001b[39m(data, H2OErrorV3):\n\u001b[0;32m    852\u001b[0m     data\u001b[38;5;241m.\u001b[39mshow_stacktrace \u001b[38;5;241m=\u001b[39m \u001b[38;5;28;01mFalse\u001b[39;00m\n\u001b[1;32m--> 853\u001b[0m     \u001b[38;5;28;01mraise\u001b[39;00m H2OResponseError(data)\n\u001b[0;32m    855\u001b[0m \u001b[38;5;66;03m# Server errors (notably 500 = \"Server Error\")\u001b[39;00m\n\u001b[0;32m    856\u001b[0m \u001b[38;5;66;03m# Note that it is possible to receive valid H2OErrorV3 object in this case, however it merely means the server\u001b[39;00m\n\u001b[0;32m    857\u001b[0m \u001b[38;5;66;03m# did not provide the correct status code.\u001b[39;00m\n\u001b[0;32m    858\u001b[0m \u001b[38;5;28;01mraise\u001b[39;00m H2OServerError(\u001b[38;5;124m\"\u001b[39m\u001b[38;5;124mHTTP \u001b[39m\u001b[38;5;132;01m%d\u001b[39;00m\u001b[38;5;124m \u001b[39m\u001b[38;5;132;01m%s\u001b[39;00m\u001b[38;5;124m:\u001b[39m\u001b[38;5;130;01m\\n\u001b[39;00m\u001b[38;5;132;01m%s\u001b[39;00m\u001b[38;5;124m\"\u001b[39m \u001b[38;5;241m%\u001b[39m (status_code, response\u001b[38;5;241m.\u001b[39mreason, data))\n",
      "\u001b[1;31mH2OResponseError\u001b[0m: Server error water.exceptions.H2OKeyNotFoundArgumentException:\n  Error: Object 'py_1_sid_9cfc' not found for argument: key\n  Request: GET /3/Frames/py_1_sid_9cfc\n    params: {'row_count': '10', 'row_offset': '0', 'column_count': '-1', 'full_column_count': '-1', 'column_offset': '0'}\n"
     ]
    }
   ],
   "source": [
    "df_all_1['status_group'].table()"
   ]
  }
 ],
 "metadata": {
  "kernelspec": {
   "display_name": "Python 3",
   "language": "python",
   "name": "python3"
  },
  "language_info": {
   "codemirror_mode": {
    "name": "ipython",
    "version": 3
   },
   "file_extension": ".py",
   "mimetype": "text/x-python",
   "name": "python",
   "nbconvert_exporter": "python",
   "pygments_lexer": "ipython3",
   "version": "3.11.8"
  }
 },
 "nbformat": 4,
 "nbformat_minor": 2
}
